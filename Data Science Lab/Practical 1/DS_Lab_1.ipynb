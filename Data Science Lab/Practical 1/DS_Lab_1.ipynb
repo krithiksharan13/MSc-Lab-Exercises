{
  "nbformat": 4,
  "nbformat_minor": 0,
  "metadata": {
    "colab": {
      "provenance": []
    },
    "kernelspec": {
      "name": "python3",
      "display_name": "Python 3"
    },
    "language_info": {
      "name": "python"
    }
  },
  "cells": [
    {
      "cell_type": "code",
      "execution_count": 1,
      "metadata": {
        "id": "e2nZkKjxK3ei"
      },
      "outputs": [],
      "source": [
        "import pandas as pd\n",
        "import numpy as np\n",
        "import matplotlib.pyplot as plt\n",
        "import seaborn as sns"
      ]
    },
    {
      "cell_type": "code",
      "source": [
        "df_titanic = pd.read_csv('/content/train.csv')"
      ],
      "metadata": {
        "id": "wNUPIG5dLEdm"
      },
      "execution_count": 2,
      "outputs": []
    },
    {
      "cell_type": "code",
      "source": [
        "df_titanic.info()"
      ],
      "metadata": {
        "colab": {
          "base_uri": "https://localhost:8080/"
        },
        "id": "fi6UW9G2LNuQ",
        "outputId": "86394857-392f-44a5-ad1e-88ee040632ed"
      },
      "execution_count": 3,
      "outputs": [
        {
          "output_type": "stream",
          "name": "stdout",
          "text": [
            "<class 'pandas.core.frame.DataFrame'>\n",
            "RangeIndex: 891 entries, 0 to 890\n",
            "Data columns (total 12 columns):\n",
            " #   Column       Non-Null Count  Dtype  \n",
            "---  ------       --------------  -----  \n",
            " 0   PassengerId  891 non-null    int64  \n",
            " 1   Survived     891 non-null    int64  \n",
            " 2   Pclass       891 non-null    int64  \n",
            " 3   Name         891 non-null    object \n",
            " 4   Sex          891 non-null    object \n",
            " 5   Age          714 non-null    float64\n",
            " 6   SibSp        891 non-null    int64  \n",
            " 7   Parch        891 non-null    int64  \n",
            " 8   Ticket       891 non-null    object \n",
            " 9   Fare         891 non-null    float64\n",
            " 10  Cabin        204 non-null    object \n",
            " 11  Embarked     889 non-null    object \n",
            "dtypes: float64(2), int64(5), object(5)\n",
            "memory usage: 83.7+ KB\n"
          ]
        }
      ]
    },
    {
      "cell_type": "markdown",
      "source": [
        "1. Please show all the information that belongs to the first six passengers. You should have\n",
        "6 rows each referring to a passenger, and the values of 12 features (columns) for each\n",
        "passenger."
      ],
      "metadata": {
        "id": "dJJIs0V0LyQB"
      }
    },
    {
      "cell_type": "code",
      "source": [
        "print(df_titanic.head(6))"
      ],
      "metadata": {
        "colab": {
          "base_uri": "https://localhost:8080/"
        },
        "id": "dR2SjvReLRlE",
        "outputId": "70f18bab-c69a-42f4-f448-757636e5e3bc"
      },
      "execution_count": 4,
      "outputs": [
        {
          "output_type": "stream",
          "name": "stdout",
          "text": [
            "   PassengerId  Survived  Pclass  \\\n",
            "0            1         0       3   \n",
            "1            2         1       1   \n",
            "2            3         1       3   \n",
            "3            4         1       1   \n",
            "4            5         0       3   \n",
            "5            6         0       3   \n",
            "\n",
            "                                                Name     Sex   Age  SibSp  \\\n",
            "0                            Braund, Mr. Owen Harris    male  22.0      1   \n",
            "1  Cumings, Mrs. John Bradley (Florence Briggs Th...  female  38.0      1   \n",
            "2                             Heikkinen, Miss. Laina  female  26.0      0   \n",
            "3       Futrelle, Mrs. Jacques Heath (Lily May Peel)  female  35.0      1   \n",
            "4                           Allen, Mr. William Henry    male  35.0      0   \n",
            "5                                   Moran, Mr. James    male   NaN      0   \n",
            "\n",
            "   Parch            Ticket     Fare Cabin Embarked  \n",
            "0      0         A/5 21171   7.2500   NaN        S  \n",
            "1      0          PC 17599  71.2833   C85        C  \n",
            "2      0  STON/O2. 3101282   7.9250   NaN        S  \n",
            "3      0            113803  53.1000  C123        S  \n",
            "4      0            373450   8.0500   NaN        S  \n",
            "5      0            330877   8.4583   NaN        Q  \n"
          ]
        }
      ]
    },
    {
      "cell_type": "markdown",
      "source": [
        "2. Please show all the information that belongs to the last six passengers. You should have 6 rows each referring to a passenger, and the values of 12 features (columns) for each\n",
        "passenger.\n"
      ],
      "metadata": {
        "id": "6wZcOHqxL7Mb"
      }
    },
    {
      "cell_type": "code",
      "source": [
        "print(df_titanic.tail(6))"
      ],
      "metadata": {
        "colab": {
          "base_uri": "https://localhost:8080/"
        },
        "id": "84aQbjBhL2im",
        "outputId": "d8ae8c72-4ef3-437e-a17c-1fcabf860464"
      },
      "execution_count": 5,
      "outputs": [
        {
          "output_type": "stream",
          "name": "stdout",
          "text": [
            "     PassengerId  Survived  Pclass                                      Name  \\\n",
            "885          886         0       3      Rice, Mrs. William (Margaret Norton)   \n",
            "886          887         0       2                     Montvila, Rev. Juozas   \n",
            "887          888         1       1              Graham, Miss. Margaret Edith   \n",
            "888          889         0       3  Johnston, Miss. Catherine Helen \"Carrie\"   \n",
            "889          890         1       1                     Behr, Mr. Karl Howell   \n",
            "890          891         0       3                       Dooley, Mr. Patrick   \n",
            "\n",
            "        Sex   Age  SibSp  Parch      Ticket    Fare Cabin Embarked  \n",
            "885  female  39.0      0      5      382652  29.125   NaN        Q  \n",
            "886    male  27.0      0      0      211536  13.000   NaN        S  \n",
            "887  female  19.0      0      0      112053  30.000   B42        S  \n",
            "888  female   NaN      1      2  W./C. 6607  23.450   NaN        S  \n",
            "889    male  26.0      0      0      111369  30.000  C148        C  \n",
            "890    male  32.0      0      0      370376   7.750   NaN        Q  \n"
          ]
        }
      ]
    },
    {
      "cell_type": "markdown",
      "source": [
        "3. Please list the attributes (column titles)."
      ],
      "metadata": {
        "id": "JPlPd25VMJLh"
      }
    },
    {
      "cell_type": "code",
      "source": [
        "print(list(df_titanic.columns))"
      ],
      "metadata": {
        "colab": {
          "base_uri": "https://localhost:8080/"
        },
        "id": "2MqxdGTlMPGN",
        "outputId": "4fa8c008-ae29-4d0a-e604-3f33c53b7cb5"
      },
      "execution_count": 7,
      "outputs": [
        {
          "output_type": "stream",
          "name": "stdout",
          "text": [
            "['PassengerId', 'Survived', 'Pclass', 'Name', 'Sex', 'Age', 'SibSp', 'Parch', 'Ticket', 'Fare', 'Cabin', 'Embarked']\n"
          ]
        }
      ]
    },
    {
      "cell_type": "markdown",
      "source": [
        "4. Please show the size of the dataset: (the number of passengers only). Do not forget to\n",
        "write what the output of your script refers to."
      ],
      "metadata": {
        "id": "FL8dWlQIMb2g"
      }
    },
    {
      "cell_type": "code",
      "source": [
        "print(len(df_titanic))"
      ],
      "metadata": {
        "colab": {
          "base_uri": "https://localhost:8080/"
        },
        "id": "-VcVc3leMfsD",
        "outputId": "e84971d5-7e87-4a48-dd53-14b9c9612439"
      },
      "execution_count": 8,
      "outputs": [
        {
          "output_type": "stream",
          "name": "stdout",
          "text": [
            "891\n"
          ]
        }
      ]
    },
    {
      "cell_type": "markdown",
      "source": [
        "5. Please check how many missing values there are in the dataset for the columns\n",
        "“Age”,“Cabin” and “Embarked”. Missing values will have a null value (NaN). Do not\n",
        "forget to write how many missing values there are for each of these three columns in the\n",
        "comments."
      ],
      "metadata": {
        "id": "PCdl37x4MrQI"
      }
    },
    {
      "cell_type": "code",
      "source": [
        "nan_counts = df_titanic[['Age', 'Cabin', 'Embarked']].isna().sum()\n",
        "print(nan_counts)"
      ],
      "metadata": {
        "colab": {
          "base_uri": "https://localhost:8080/"
        },
        "id": "1MR8IYPmMynF",
        "outputId": "1c174079-e1be-4a38-8306-58b24b7a35b5"
      },
      "execution_count": 10,
      "outputs": [
        {
          "output_type": "stream",
          "name": "stdout",
          "text": [
            "Age         177\n",
            "Cabin       687\n",
            "Embarked      2\n",
            "dtype: int64\n"
          ]
        }
      ]
    },
    {
      "cell_type": "markdown",
      "source": [
        "6. What is the age of the youngest passenger?"
      ],
      "metadata": {
        "id": "RF6hE6QhNQ37"
      }
    },
    {
      "cell_type": "code",
      "source": [
        "youngest_age = df_titanic['Age'].min()\n",
        "print(\"The youngest passenger's age is:\", youngest_age)"
      ],
      "metadata": {
        "colab": {
          "base_uri": "https://localhost:8080/"
        },
        "id": "nYvtl6j5NYn_",
        "outputId": "ec7dcb60-2c9a-44a4-8a0c-e4297e8aaf2f"
      },
      "execution_count": 11,
      "outputs": [
        {
          "output_type": "stream",
          "name": "stdout",
          "text": [
            "The youngest passenger's age is: 0.42\n"
          ]
        }
      ]
    },
    {
      "cell_type": "markdown",
      "source": [
        "7. What is the age of the youngest passenger who survived?"
      ],
      "metadata": {
        "id": "XpvvD4gGOZ6c"
      }
    },
    {
      "cell_type": "code",
      "source": [
        "youngest_survivor = df_titanic[df_titanic['Survived'] == 1]['Age'].min()\n",
        "print(\"The youngest survived passenger's age is:\", youngest_survivor)\n"
      ],
      "metadata": {
        "colab": {
          "base_uri": "https://localhost:8080/"
        },
        "id": "9ND25-FPOehf",
        "outputId": "afc23bbc-b488-4217-8a53-181c4bea743e"
      },
      "execution_count": 12,
      "outputs": [
        {
          "output_type": "stream",
          "name": "stdout",
          "text": [
            "The youngest survived passenger's age is: 0.42\n"
          ]
        }
      ]
    },
    {
      "cell_type": "markdown",
      "source": [
        "8. How much is the average fare?"
      ],
      "metadata": {
        "id": "90ognLD6O4me"
      }
    },
    {
      "cell_type": "code",
      "source": [
        "print(np.average(df_titanic['Fare']))"
      ],
      "metadata": {
        "colab": {
          "base_uri": "https://localhost:8080/"
        },
        "id": "uPT8uObHO776",
        "outputId": "fe78b3e3-e14d-433e-9f06-7e1a07ffde8f"
      },
      "execution_count": 13,
      "outputs": [
        {
          "output_type": "stream",
          "name": "stdout",
          "text": [
            "32.204207968574636\n"
          ]
        }
      ]
    },
    {
      "cell_type": "markdown",
      "source": [
        "9. What is the age of the oldest passenger who survived?"
      ],
      "metadata": {
        "id": "VkwlBzRKPEos"
      }
    },
    {
      "cell_type": "code",
      "source": [
        "oldest_survivor = df_titanic[df_titanic['Survived'] == 1]['Age'].max()\n",
        "print(\"The oldest survived passenger's age is:\", oldest_survivor)"
      ],
      "metadata": {
        "colab": {
          "base_uri": "https://localhost:8080/"
        },
        "id": "Oz3ZedT_PEDl",
        "outputId": "b0695c0a-629b-4c83-cd8d-ab4398328ea4"
      },
      "execution_count": 14,
      "outputs": [
        {
          "output_type": "stream",
          "name": "stdout",
          "text": [
            "The oldest survived passenger's age is: 80.0\n"
          ]
        }
      ]
    },
    {
      "cell_type": "markdown",
      "source": [
        "10. What is the age of the oldest female passenger who survived?"
      ],
      "metadata": {
        "id": "N8TYi90_PaiA"
      }
    },
    {
      "cell_type": "code",
      "source": [
        "survived_female = df_titanic[(df_titanic['Survived']==1) & (df_titanic['Sex'] == 'female')]\n",
        "oldest_female = survived_female['Age'].max()\n",
        "print(\"The oldest female survived passenger's age is:\", oldest_female)"
      ],
      "metadata": {
        "colab": {
          "base_uri": "https://localhost:8080/"
        },
        "id": "3ileh6knPoeY",
        "outputId": "2c2d4e15-5b41-4771-d49c-82d66fb71d51"
      },
      "execution_count": 22,
      "outputs": [
        {
          "output_type": "stream",
          "name": "stdout",
          "text": [
            "The oldest female survived passenger's age is: 63.0\n"
          ]
        }
      ]
    },
    {
      "cell_type": "markdown",
      "source": [
        "11. Are there any children under the age of 10 traveling without their parents? What might\n",
        "this indicate?"
      ],
      "metadata": {
        "id": "g9y1NoJUR09R"
      }
    },
    {
      "cell_type": "code",
      "source": [
        "children_without_parents = df_titanic[(df_titanic['Age'] < 10) & (df_titanic['Parch'] == 0)]\n",
        "print(len(children_without_parents))\n",
        "\n",
        "#This specifies that this child is probably an orphan"
      ],
      "metadata": {
        "colab": {
          "base_uri": "https://localhost:8080/"
        },
        "id": "U_cuFS1zPoa2",
        "outputId": "365b63f5-2d1f-4c3c-92c1-bc91c78375c6"
      },
      "execution_count": 26,
      "outputs": [
        {
          "output_type": "stream",
          "name": "stdout",
          "text": [
            "1\n"
          ]
        }
      ]
    },
    {
      "cell_type": "markdown",
      "source": [
        "12. What is the number of siblings of the passenger who has the highest number of siblings?"
      ],
      "metadata": {
        "id": "S80unuqjTtMy"
      }
    },
    {
      "cell_type": "code",
      "source": [
        "siblings_max=df_titanic['SibSp'].max()\n",
        "print(siblings_max)"
      ],
      "metadata": {
        "colab": {
          "base_uri": "https://localhost:8080/"
        },
        "id": "C-h7s703Tx0f",
        "outputId": "017d5873-635f-4baf-d128-1ff3f53f0c9e"
      },
      "execution_count": 27,
      "outputs": [
        {
          "output_type": "stream",
          "name": "stdout",
          "text": [
            "8\n"
          ]
        }
      ]
    },
    {
      "cell_type": "markdown",
      "source": [
        "13. What is the most commonly used title (you can get the title information from the Name\n",
        "attribute)?"
      ],
      "metadata": {
        "id": "AZ3umu6TUJ33"
      }
    },
    {
      "cell_type": "code",
      "source": [
        "title = df_titanic['Name'].str.split(', ').str[1].str.split('.').str[0]\n",
        "most_common_title = title.value_counts().idxmax()\n",
        "print(most_common_title)\n"
      ],
      "metadata": {
        "colab": {
          "base_uri": "https://localhost:8080/"
        },
        "id": "dT6bhE00UKlr",
        "outputId": "7478c1ba-c6da-475b-a4b9-0258124b58e7"
      },
      "execution_count": 28,
      "outputs": [
        {
          "output_type": "stream",
          "name": "stdout",
          "text": [
            "Mr\n"
          ]
        }
      ]
    },
    {
      "cell_type": "markdown",
      "source": [
        " 14. How many distinct titles are used? Please list these titles. (see Q13)"
      ],
      "metadata": {
        "id": "-ou4wEk1UpIp"
      }
    },
    {
      "cell_type": "code",
      "source": [
        "unique_titles = title.unique()\n",
        "print(unique_titles)\n"
      ],
      "metadata": {
        "colab": {
          "base_uri": "https://localhost:8080/"
        },
        "id": "9Qz0pT5_UtDY",
        "outputId": "14b25a2f-b7c3-4db6-f490-baafe863f224"
      },
      "execution_count": 31,
      "outputs": [
        {
          "output_type": "stream",
          "name": "stdout",
          "text": [
            "['Mr' 'Mrs' 'Miss' 'Master' 'Don' 'Rev' 'Dr' 'Mme' 'Ms' 'Major' 'Lady'\n",
            " 'Sir' 'Mlle' 'Col' 'Capt' 'the Countess' 'Jonkheer']\n"
          ]
        }
      ]
    },
    {
      "cell_type": "markdown",
      "source": [
        "15. What is the average age of the passengers?"
      ],
      "metadata": {
        "id": "keD7Le2JVCeZ"
      }
    },
    {
      "cell_type": "code",
      "source": [
        "average_age = df_titanic['Age'].mean()\n",
        "print(\"Average age (excluding NaN):\", average_age)"
      ],
      "metadata": {
        "colab": {
          "base_uri": "https://localhost:8080/"
        },
        "id": "_StVfBZJVH8j",
        "outputId": "1afc8dbe-5f41-4bd5-cbae-88e2076c0d2f"
      },
      "execution_count": 34,
      "outputs": [
        {
          "output_type": "stream",
          "name": "stdout",
          "text": [
            "Average age (excluding NaN): 29.69911764705882\n"
          ]
        }
      ]
    }
  ]
}
